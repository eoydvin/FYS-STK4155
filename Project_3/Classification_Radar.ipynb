{
 "cells": [
  {
   "cell_type": "code",
   "execution_count": 1,
   "id": "170b4d8e",
   "metadata": {},
   "outputs": [
    {
     "name": "stdout",
     "output_type": "stream",
     "text": [
      "The autoreload extension is already loaded. To reload it, use:\n",
      "  %reload_ext autoreload\n"
     ]
    }
   ],
   "source": [
    "%load_ext autoreload \n",
    "%autoreload 2\n",
    "%matplotlib inline"
   ]
  },
  {
   "cell_type": "code",
   "execution_count": 2,
   "id": "867c0e15",
   "metadata": {},
   "outputs": [],
   "source": [
    "import numpy as np\n",
    "import matplotlib.pyplot as plt\n",
    "import tqdm\n",
    "import xarray as xr\n",
    "import pandas as pd\n",
    "from get_map import weather_radar_thredds"
   ]
  },
  {
   "cell_type": "markdown",
   "id": "6d9a01bb",
   "metadata": {},
   "source": [
    "### Case area"
   ]
  },
  {
   "cell_type": "markdown",
   "id": "da991598",
   "metadata": {},
   "source": [
    "![Cordinates for interesting area from bboxfinder.com](linker.png)"
   ]
  },
  {
   "cell_type": "code",
   "execution_count": null,
   "id": "83caf97d",
   "metadata": {},
   "outputs": [],
   "source": [
    "# Coordinates for rectagle\n",
    "min_lat = 59.6592\n",
    "max_lat = 59.6916\n",
    "min_lon = 10.7723\n",
    "max_lon = 10.8258\n",
    "\n",
    "radar_precipitation = weather_radar_thredds(min_lat, max_lat, min_lon, max_lon)\n"
   ]
  }
 ],
 "metadata": {
  "kernelspec": {
   "display_name": "Python 3 (ipykernel)",
   "language": "python",
   "name": "python3"
  },
  "language_info": {
   "codemirror_mode": {
    "name": "ipython",
    "version": 3
   },
   "file_extension": ".py",
   "mimetype": "text/x-python",
   "name": "python",
   "nbconvert_exporter": "python",
   "pygments_lexer": "ipython3",
   "version": "3.8.10"
  }
 },
 "nbformat": 4,
 "nbformat_minor": 5
}
