{
 "cells": [
  {
   "cell_type": "code",
   "execution_count": 1,
   "id": "a29997f0",
   "metadata": {},
   "outputs": [
    {
     "name": "stdout",
     "output_type": "stream",
     "text": [
      "The autoreload extension is already loaded. To reload it, use:\n",
      "  %reload_ext autoreload\n"
     ]
    }
   ],
   "source": [
    "%load_ext autoreload \n",
    "%autoreload 2"
   ]
  },
  {
   "cell_type": "code",
   "execution_count": 2,
   "id": "1fefac48",
   "metadata": {},
   "outputs": [],
   "source": [
    "%matplotlib inline"
   ]
  },
  {
   "cell_type": "markdown",
   "id": "cd8b445e",
   "metadata": {},
   "source": [
    "## NN on Franke Function"
   ]
  },
  {
   "cell_type": "markdown",
   "id": "e7c5508b",
   "metadata": {},
   "source": [
    "In this exercise I will develop my own NN and use it against the same weather radar image. "
   ]
  },
  {
   "cell_type": "markdown",
   "id": "111ab384",
   "metadata": {},
   "source": [
    "- Gjer meg opp ein meining for kostfunksjon. MSE fordi den har ein simpel derivert i C - kostfunksjonen\n",
    "- gjør NN klart for ulike aktiveringsfunksjoner, neste"
   ]
  },
  {
   "cell_type": "code",
   "execution_count": 3,
   "id": "9da52db1",
   "metadata": {},
   "outputs": [],
   "source": [
    "import numpy as np\n",
    "import matplotlib.pyplot as plt\n",
    "from mpl_toolkits.mplot3d import Axes3D\n",
    "from matplotlib import cm\n",
    "from regression import OLS\n",
    "from neural_network import NeuralNetwork\n",
    "from regression import OLS\n"
   ]
  },
  {
   "cell_type": "code",
   "execution_count": null,
   "id": "075906a8",
   "metadata": {
    "scrolled": true
   },
   "outputs": [
    {
     "name": "stderr",
     "output_type": "stream",
     "text": [
      " 60%|█▊ | 3/5 [02:58<01:58, 59.48s/it]"
     ]
    }
   ],
   "source": [
    "from franke_function import FrankeFunction as Fr\n",
    "import seaborn as sns\n",
    "import tqdm\n",
    "from sklearn.metrics import r2_score\n",
    "from sklearn.neural_network import MLPRegressor\n",
    "\n",
    "def output_func(x): # linear output to fit surface\n",
    "    return x\n",
    "\n",
    "learning_rate = np.linspace(0.000001, 0.005, 5) #different learning rates, include \n",
    "regularization = np.linspace(0, 0.2, 3)\n",
    "k_folds = 5\n",
    "batch_size = 32\n",
    "n_epochs = 200\n",
    "hidden_layer_sizes = [10, 10, 10]\n",
    "# flere hidden layers treng fleire epochs\n",
    "\n",
    "train_accuracy = np.zeros((len(learning_rate), len(regularization)))\n",
    "test_accuracy = np.zeros((len(learning_rate), len(regularization)))\n",
    "train_accuracy_skl = np.zeros((len(learning_rate), len(regularization)))\n",
    "test_accuracy_skl = np.zeros((len(learning_rate), len(regularization)))\n",
    "\n",
    "#Use radar data:\n",
    "#z = radar_rescaled\n",
    "#x = np.arange(z.shape[1])\n",
    "#y = np.arange(z.shape[0])\n",
    "#x, y = np.meshgrid(x, y)\n",
    "\n",
    "x = np.linspace(0, 1, 50)\n",
    "y = np.linspace(0, 1, 50)\n",
    "x, y = np.meshgrid(x, y)\n",
    "noise = np.random.randn(x.shape[0], y.shape[1])\n",
    "z = Fr(x, y) + noise*0.05\n",
    "\n",
    "#cross validation\n",
    "xyz_shuffle = np.hstack([x.reshape(-1,1), y.reshape(-1,1), z.reshape(-1,1)])\n",
    "np.random.shuffle(xyz_shuffle) # shuffle along axis 0\n",
    "xyz_folds = np.array_split(xyz_shuffle, k_folds)\n",
    "\n",
    "#my own implementation\n",
    "for i in tqdm.tqdm(range(len(learning_rate))):\n",
    "    for j in range(len(regularization)):\n",
    "        R2_test = []\n",
    "        R2_train = []\n",
    "        for k in range(k_folds):     \n",
    "            # extract folds\n",
    "    \n",
    "            xyz_test = xyz_folds[k].copy() # k-th fold is test \n",
    "            xyz_train = np.vstack([xyz_folds[f] for f in range(k_folds) if f != k]).copy() # skip k-th fold\n",
    "\n",
    "            xy_train = xyz_train[:, 0:2]\n",
    "            z_train = xyz_train[:, 2].reshape(-1, 1)\n",
    "            xy_test = xyz_test[:, 0:2]\n",
    "            z_test = xyz_test[:, 2].reshape(-1, 1)    \n",
    "    \n",
    "            #Scale groups using train mean and std\n",
    "            xy_test[:, 0] =  xy_test[:, 0] - np.mean(xy_train[:, 0]) \n",
    "            xy_test[:, 1] =  xy_test[:, 1] - np.mean(xy_train[:, 1])\n",
    "            z_test[:] =  z_test[:] - np.mean(z_train[:]) \n",
    "            xy_train[:, 0] =  xy_train[:, 0] - np.mean(xy_train[:, 0])  \n",
    "            xy_train[:, 1] =  xy_train[:, 1] - np.mean(xy_train[:, 1])\n",
    "            z_train[:] =  z_train[:] - np.mean(z_train[:])\n",
    "            \n",
    "            \n",
    "            n_categories = 1\n",
    "            dnn = NeuralNetwork(xy_train, z_train, n_categories, output_func, eta=learning_rate[i], \n",
    "                                lmbd=regularization[j], epochs=n_epochs, batch_size=batch_size, \n",
    "                                hidden_layer_sizes=hidden_layer_sizes)\n",
    "            dnn.train()\n",
    "            dnn_zpred_train = dnn.predict(xy_train)\n",
    "            dnn_zpred_test = dnn.predict(xy_test)\n",
    "            \n",
    "            if not np.isnan(np.sum(dnn_zpred_test)): \n",
    "                R2_test.append( r2_score(z_test, dnn_zpred_test ))\n",
    "            if not np.isnan(np.sum(dnn_zpred_train)):\n",
    "                R2_train.append(r2_score( z_train, dnn_zpred_train )) \n",
    "\n",
    "        train_accuracy[i][j] = np.mean(R2_train)\n",
    "        test_accuracy[i][j] = np.mean(R2_test)"
   ]
  },
  {
   "cell_type": "code",
   "execution_count": 33,
   "id": "a124c5c8",
   "metadata": {},
   "outputs": [
    {
     "name": "stderr",
     "output_type": "stream",
     "text": [
      "  0%|           | 0/5 [00:00<?, ?it/s]/home/erlend/anaconda3/lib/python3.8/site-packages/sklearn/neural_network/_multilayer_perceptron.py:692: ConvergenceWarning: Stochastic Optimizer: Maximum iterations (2000) reached and the optimization hasn't converged yet.\n",
      "  warnings.warn(\n",
      " 80%|██▍| 4/5 [00:21<00:04,  4.30s/it]/home/erlend/anaconda3/lib/python3.8/site-packages/sklearn/neural_network/_multilayer_perceptron.py:699: UserWarning: Training interrupted by user.\n",
      "  warnings.warn(\"Training interrupted by user.\")\n",
      "100%|███| 5/5 [00:24<00:00,  4.93s/it]\n"
     ]
    }
   ],
   "source": [
    "learning_rate = np.linspace(0.000001, 0.1, 5) #larger initial learning rates, \n",
    "regularization = np.linspace(0, 0.1, 3)\n",
    "\n",
    "#sklearn\n",
    "for i in tqdm.tqdm(range(len(learning_rate))):\n",
    "    for j in range(len(regularization)):\n",
    "        R2_test_skl = []\n",
    "        R2_train_skl = []\n",
    "        for k in range(k_folds):     \n",
    "            # extract folds\n",
    "    \n",
    "            xyz_test = xyz_folds[k].copy() # k-th fold is test \n",
    "            xyz_train = np.vstack([xyz_folds[f] for f in range(k_folds) if f != k]).copy() # skip k-th fold\n",
    "\n",
    "            xy_train = xyz_train[:, 0:2]\n",
    "            z_train = xyz_train[:, 2].reshape(-1, 1)\n",
    "            xy_test = xyz_test[:, 0:2]\n",
    "            z_test = xyz_test[:, 2].reshape(-1, 1)    \n",
    "    \n",
    "            #Scale groups using train mean and std\n",
    "            xy_test[:, 0] =  xy_test[:, 0] - np.mean(xy_train[:, 0]) \n",
    "            xy_test[:, 1] =  xy_test[:, 1] - np.mean(xy_train[:, 1])\n",
    "            z_test[:] =  z_test[:] - np.mean(z_train[:]) \n",
    "            xy_train[:, 0] =  xy_train[:, 0] - np.mean(xy_train[:, 0])  \n",
    "            xy_train[:, 1] =  xy_train[:, 1] - np.mean(xy_train[:, 1])\n",
    "            z_train[:] =  z_train[:] - np.mean(z_train[:])\n",
    "            \n",
    "            dnn = MLPRegressor(hidden_layer_sizes=hidden_layer_sizes, activation='logistic', \n",
    "                               solver='adam', alpha=regularization[j], \n",
    "                               learning_rate_init=learning_rate[i], max_iter=2000)\n",
    "            dnn.fit(xy_train, z_train.ravel())\n",
    "            dnn_zpred_train_skl = dnn.predict(xy_train)\n",
    "            dnn_zpred_test_skl = dnn.predict(xy_test)\n",
    "            \n",
    "            if not np.isnan(np.sum(dnn_zpred_test_skl)): \n",
    "                R2_test_skl.append( r2_score(z_test, dnn_zpred_test_skl ))\n",
    "            if not np.isnan(np.sum(dnn_zpred_train_skl)):\n",
    "                R2_train_skl.append(r2_score( z_train, dnn_zpred_train_skl )) \n",
    "\n",
    "        train_accuracy_skl[i][j] = np.mean(R2_train_skl)\n",
    "        test_accuracy_skl[i][j] = np.mean(R2_test_skl)"
   ]
  },
  {
   "cell_type": "code",
   "execution_count": 32,
   "id": "e22e5aac",
   "metadata": {
    "scrolled": true
   },
   "outputs": [
    {
     "data": {
      "image/png": "[encoded data removed]",
      "text/plain": [
       "<Figure size 720x720 with 2 Axes>"
      ]
     },
     "metadata": {
      "needs_background": "light"
     },
     "output_type": "display_data"
    },
    {
     "data": {
      "image/png": "[encoded data removed]",
      "text/plain": [
       "<Figure size 720x720 with 2 Axes>"
      ]
     },
     "metadata": {
      "needs_background": "light"
     },
     "output_type": "display_data"
    }
   ],
   "source": [
    "fig, ax = plt.subplots(figsize = (10, 10))\n",
    "sns.heatmap(test_accuracy, annot=True, ax=ax, cmap=\"viridis\")\n",
    "ax.set_title(\"Test Accuracy\")\n",
    "ax.set_ylabel(\"$\\eta$\")\n",
    "ax.set_xlabel(\"$\\lambda$\")\n",
    "ax.set_xticklabels([\"{0:0.2f}\".format(i) for i in regularization] )\n",
    "ax.set_yticklabels([\"{0:0.5f}\".format(i) for i in learning_rate] )\n",
    "plt.show()\n",
    "\n",
    "fig, ax = plt.subplots(figsize = (10, 10))\n",
    "sns.heatmap(test_accuracy_skl, annot=True, ax=ax, cmap=\"viridis\")\n",
    "ax.set_title(\"Test Accuracy skl\")\n",
    "ax.set_ylabel(\"$\\eta$\")\n",
    "ax.set_xlabel(\"$\\lambda$\")\n",
    "ax.set_xticklabels([\"{0:0.2f}\".format(i) for i in regularization] )\n",
    "ax.set_yticklabels([\"{0:0.5f}\".format(i) for i in learning_rate] )\n",
    "plt.show()"
   ]
  },
  {
   "cell_type": "code",
   "execution_count": null,
   "id": "89209c77",
   "metadata": {},
   "outputs": [],
   "source": []
  },
  {
   "cell_type": "markdown",
   "id": "bd55e30c",
   "metadata": {},
   "source": [
    "## Different activation functions"
   ]
  },
  {
   "cell_type": "markdown",
   "id": "bec5d745",
   "metadata": {},
   "source": [
    "- Test ut sigmoid, RELU og Leaky RELU.\n",
    "- Mulig: Sjekk ut om måten eg initialiserer vekter og bias på på har noko å sei. "
   ]
  },
  {
   "cell_type": "code",
   "execution_count": 221,
   "id": "b727bdc5",
   "metadata": {
    "scrolled": true
   },
   "outputs": [
    {
     "data": {
      "text/plain": [
       "<matplotlib.image.AxesImage at 0x7f8a32cf6550>"
      ]
     },
     "execution_count": 221,
     "metadata": {},
     "output_type": "execute_result"
    },
    {
     "data": {
      "image/png": "[encoded data removed]",
      "text/plain": [
       "<Figure size 432x288 with 1 Axes>"
      ]
     },
     "metadata": {
      "needs_background": "light"
     },
     "output_type": "display_data"
    }
   ],
   "source": [
    "# Recreate franke\n",
    "import matplotlib.pyplot as plt\n",
    "import numpy as np\n",
    "\n",
    "\n",
    "x = np.linspace(0, 1, 50)\n",
    "y = np.linspace(0, 1, 50)\n",
    "x, y = np.meshgrid(x, y)\n",
    "noise = np.random.randn(x.shape[0], y.shape[1])\n",
    "z = Fr(x, y) + noise*0.05\n",
    "\n",
    "x = x - np.mean(x)\n",
    "y = y - np.mean(y)\n",
    "z = z - np.mean(z)\n",
    "xy = np.hstack([x.reshape(-1, 1), y.reshape(-1, 1)])\n",
    "\n",
    "dnn = NeuralNetwork(xy, z.reshape(-1, 1), 1, output_func, eta=learning_rate[-2], \n",
    "                                lmbd=regularization[0], epochs=n_epochs, batch_size=batch_size, \n",
    "                                hidden_layer_sizes=hidden_layer_sizes)\n",
    "\n",
    "dnn.train()\n",
    "z_pred = dnn.predict(xy).reshape(x.shape)\n",
    "plt.imshow(z_pred, cmap='gray')"
   ]
  },
  {
   "cell_type": "code",
   "execution_count": 220,
   "id": "fda2d972",
   "metadata": {},
   "outputs": [
    {
     "data": {
      "text/plain": [
       "<matplotlib.image.AxesImage at 0x7f8a32ca4250>"
      ]
     },
     "execution_count": 220,
     "metadata": {},
     "output_type": "execute_result"
    },
    {
     "data": {
      "image/png": "[encoded data removed]",
      "text/plain": [
       "<Figure size 432x288 with 1 Axes>"
      ]
     },
     "metadata": {
      "needs_background": "light"
     },
     "output_type": "display_data"
    }
   ],
   "source": [
    "plt.imshow(z, cmap='gray')"
   ]
  }
 ],
 "metadata": {
  "kernelspec": {
   "display_name": "Python 3 (ipykernel)",
   "language": "python",
   "name": "python3"
  },
  "language_info": {
   "codemirror_mode": {
    "name": "ipython",
    "version": 3
   },
   "file_extension": ".py",
   "mimetype": "text/x-python",
   "name": "python",
   "nbconvert_exporter": "python",
   "pygments_lexer": "ipython3",
   "version": "3.8.10"
  }
 },
 "nbformat": 4,
 "nbformat_minor": 5
}
