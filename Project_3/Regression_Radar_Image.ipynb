{
 "cells": [
  {
   "cell_type": "code",
   "execution_count": 1,
   "id": "170b4d8e",
   "metadata": {},
   "outputs": [
    {
     "name": "stdout",
     "output_type": "stream",
     "text": [
      "The autoreload extension is already loaded. To reload it, use:\n",
      "  %reload_ext autoreload\n"
     ]
    }
   ],
   "source": [
    "%load_ext autoreload \n",
    "%autoreload 2\n",
    "%matplotlib inline"
   ]
  },
  {
   "cell_type": "code",
   "execution_count": 2,
   "id": "867c0e15",
   "metadata": {},
   "outputs": [],
   "source": [
    "import numpy as np\n",
    "import matplotlib.pyplot as plt\n",
    "import tqdm\n",
    "import xarray as xr\n",
    "import pandas as pd\n",
    "from get_map import weather_radar_thredds"
   ]
  },
  {
   "cell_type": "markdown",
   "id": "6d9a01bb",
   "metadata": {},
   "source": [
    "### Download map"
   ]
  },
  {
   "cell_type": "markdown",
   "id": "da991598",
   "metadata": {},
   "source": [
    "![Cordinates for interesting area from bboxfinder.com](bbox.png)"
   ]
  },
  {
   "cell_type": "markdown",
   "id": "21d28d69",
   "metadata": {},
   "source": [
    "### Plot radar image"
   ]
  },
  {
   "cell_type": "code",
   "execution_count": null,
   "id": "83caf97d",
   "metadata": {},
   "outputs": [],
   "source": [
    "min_lat = 59.1759\n",
    "max_lat = 61.4184\n",
    "min_lon = 9.0527\n",
    "max_lon = 12.0575\n",
    "\n",
    "resolution = 100 # grid for plotting weather stations\n",
    "frame = 0\n",
    "x_grid = np.linspace(x_data.min() - frame, x_data.max() + frame, resolution)\n",
    "y_grid = np.linspace(y_data.min() - frame, y_data.max() + frame, resolution)\n",
    "\n",
    "min_lat = y_data.min() - frame\n",
    "max_lat = y_data.max() + frame\n",
    "min_lon = x_data.min() - frame\n",
    "max_lon = x_data.max() + frame\n",
    "\n",
    "radar_reflectivity = weather_radar_thredds(min_lat, max_lat, min_lon, max_lon)\n",
    "fig, ax = plt.subplots(figsize=(20,8))\n",
    "ax.imshow(radar_reflectivity) \n",
    "ax.scatter(x_data_trans, y_data_trans, c='red', marker='o')\n",
    "plt.show()"
   ]
  }
 ],
 "metadata": {
  "kernelspec": {
   "display_name": "Python 3 (ipykernel)",
   "language": "python",
   "name": "python3"
  },
  "language_info": {
   "codemirror_mode": {
    "name": "ipython",
    "version": 3
   },
   "file_extension": ".py",
   "mimetype": "text/x-python",
   "name": "python",
   "nbconvert_exporter": "python",
   "pygments_lexer": "ipython3",
   "version": "3.8.10"
  }
 },
 "nbformat": 4,
 "nbformat_minor": 5
}
