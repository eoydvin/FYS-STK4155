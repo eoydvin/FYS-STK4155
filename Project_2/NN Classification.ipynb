{
 "cells": [
  {
   "cell_type": "code",
   "execution_count": 1,
   "id": "a29997f0",
   "metadata": {
    "collapsed": true
   },
   "outputs": [
    {
     "name": "stdout",
     "output_type": "stream",
     "text": [
      "The autoreload extension is already loaded. To reload it, use:\n",
      "  %reload_ext autoreload\n"
     ]
    }
   ],
   "source": [
    "%load_ext autoreload \n",
    "%autoreload 2"
   ]
  },
  {
   "cell_type": "code",
   "execution_count": 2,
   "id": "1fefac48",
   "metadata": {},
   "outputs": [],
   "source": [
    "%matplotlib inline"
   ]
  },
  {
   "cell_type": "markdown",
   "id": "cd8b445e",
   "metadata": {},
   "source": [
    "## NN classification"
   ]
  },
  {
   "cell_type": "markdown",
   "id": "e7c5508b",
   "metadata": {},
   "source": [
    "In this exercise I change the output layer to do classification. "
   ]
  },
  {
   "cell_type": "markdown",
   "id": "111ab384",
   "metadata": {},
   "source": [
    "- Bruk breast cancer dataset. \n",
    "- Accuracy score: Number of correctly guessed targes divided by total targets. \n",
    "- Sjekk med ulike hyperparameter:\n",
    "    - learning rate, regularization parameter (lambda - usikker på kva denner er, sjekk ut!) \n",
    "- Test resultata mot tensorflow/keras"
   ]
  }
 ],
 "metadata": {
  "kernelspec": {
   "display_name": "Python 3",
   "language": "python",
   "name": "python3"
  },
  "language_info": {
   "codemirror_mode": {
    "name": "ipython",
    "version": 3
   },
   "file_extension": ".py",
   "mimetype": "text/x-python",
   "name": "python",
   "nbconvert_exporter": "python",
   "pygments_lexer": "ipython3",
   "version": "3.8.10"
  }
 },
 "nbformat": 4,
 "nbformat_minor": 5
}
