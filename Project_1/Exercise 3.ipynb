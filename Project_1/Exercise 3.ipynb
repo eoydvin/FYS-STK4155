{
 "cells": [
  {
   "cell_type": "markdown",
   "id": "752a8c11",
   "metadata": {},
   "source": [
    "# Cross validation "
   ]
  },
  {
   "cell_type": "code",
   "execution_count": 1,
   "id": "ed04ab8b",
   "metadata": {},
   "outputs": [
    {
     "name": "stdout",
     "output_type": "stream",
     "text": [
      "The autoreload extension is already loaded. To reload it, use:\n",
      "  %reload_ext autoreload\n"
     ]
    }
   ],
   "source": [
    "%matplotlib inline\n",
    "%load_ext autoreload \n",
    "%autoreload 2"
   ]
  },
  {
   "cell_type": "code",
   "execution_count": 6,
   "id": "ebcdabf9",
   "metadata": {
    "scrolled": true
   },
   "outputs": [
    {
     "name": "stderr",
     "output_type": "stream",
     "text": [
      "100%|██████████| 7/7 [00:02<00:00,  3.33it/s]\n"
     ]
    }
   ],
   "source": [
    "import matplotlib.pyplot as plt\n",
    "import numpy as np\n",
    "from franke_function import FrankeFunction as Fr\n",
    "from sklearn.model_selection import train_test_split\n",
    "from sklearn.preprocessing import StandardScaler\n",
    "import tqdm # progressbar\n",
    "\n",
    "#sk-learn linear regression\n",
    "from sklearn.linear_model import LinearRegression\n",
    "from sklearn.pipeline import make_pipeline\n",
    "from sklearn.preprocessing import PolynomialFeatures\n",
    "\n",
    "# my own library\n",
    "from regression import OLS\n",
    "\n",
    "x = np.linspace(0, 1, 50) # flere punkter, mindre mse? \n",
    "y = np.linspace(0, 1, 51)\n",
    "x, y = np.meshgrid(x, y)\n",
    "\n",
    "poly = 16\n",
    "k_folds = 7\n",
    "MSE_test_list = [] \n",
    "MSE_train_list = []\n",
    "MSE_skl_list = []\n",
    "\n",
    "z = Fr(x, y)\n",
    "noise = np.var(z)*np.random.normal(size=z.shape)\n",
    "z += noise*6\n",
    "\n",
    "#noise = #np.random.randn(x.shape[0], x.shape[1])\n",
    "#z = Fr(x, y) + noise*0.18 #multiply with degree of noice. 1*var_Fr = 0.18\n",
    "    \n",
    "scaler = StandardScaler() # Scaling does not affect OLS, but it does affect bootstrap?\n",
    "x_cent =  x.reshape(-1, 1)#scaler.fit_transform(x.reshape(-1, 1))  #scaler.fit_transform(x.reshape(-1, 1)) \n",
    "y_cent =  y.reshape(-1, 1)#scaler.fit_transform(y.reshape(-1, 1))  #scaler.fit_transform(y.reshape(-1, 1)) \n",
    "z_cent =  z.reshape(-1, 1)#scaler.fit_transform(z.reshape(-1, 1)) #scaler.fit_transform(z.reshape(-1, 1))\n",
    "\n",
    "# Cross validation:\n",
    "# shuffle data:\n",
    "order = np.arange(x_cent.shape[0]) #number of data points\n",
    "np.random.shuffle(order)\n",
    "x_cent_ = x_cent[order].ravel().reshape(-1,1)\n",
    "y_cent_ = y_cent[order].ravel().reshape(-1,1)\n",
    "z_cent_ = z_cent[order].ravel().reshape(-1,1)\n",
    "xyz_shuffle = np.hstack([x_cent_, y_cent_, z_cent_])\n",
    "xyz_folds = np.array_split(xyz_shuffle, k_folds)\n",
    "\n",
    "for k in tqdm.tqdm(range(k_folds)): \n",
    "    MSE_test = []\n",
    "    MSE_train = []\n",
    "    MSE_skl = []\n",
    "    \n",
    "    # extract folds\n",
    "    xyz_test = xyz_folds[k]\n",
    "    xyz_train = np.vstack([xyz_folds[f] for f in range(k_folds) if f != k]) # skip k-th fold\n",
    "\n",
    "    xy_train = xyz_train[:, 0:2]\n",
    "    z_train = xyz_train[:, 2].reshape(-1, 1)\n",
    "    xy_test = xyz_test[:, 0:2]\n",
    "    z_test = xyz_test[:, 2].reshape(-1, 1)    \n",
    "    \n",
    "    for poly_deg in range(1, poly + 1):\n",
    "        model_skl = make_pipeline(PolynomialFeatures(degree=poly_deg), LinearRegression(fit_intercept=True))\n",
    "        model = OLS(xy_train[:, 0].ravel(), xy_train[:, 1].ravel(), z_train.ravel(), poly_deg)\n",
    "        \n",
    "        MSE_test.append(model.MSE(xy_test[:, 0], xy_test[:, 1], z_test.ravel())) #tester modellen på test\n",
    "        MSE_train.append(model.MSE(xy_train[:, 0], xy_train[:, 1], z_train.ravel())) # tester på fit\n",
    "        \n",
    "        #sklearn:\n",
    "        z_pred = model_skl.fit(xy_train, z_train.reshape(-1, 1)).predict(xy_test)\n",
    "        MSE_skl.append(np.mean((z_pred.ravel() - z_test.ravel())**2)) # tester modellen mot\n",
    "        \n",
    "    MSE_test_list.append(MSE_test) \n",
    "    MSE_train_list.append(MSE_train)\n",
    "    MSE_skl_list.append(MSE_skl)\n",
    "    \n",
    "MSE_test_list = np.array(MSE_test_list)\n",
    "MSE_train_list = np.array(MSE_train_list)\n",
    "MSE_skl_list = np.array(MSE_skl_list)\n",
    "\n",
    "#study average values\n",
    "test_pol_avrg = np.mean(MSE_test_list, axis=0) \n",
    "train_pol_avrg = np.mean(MSE_train_list, axis=0)\n",
    "test_skl_avrg = np.mean(MSE_skl_list, axis=0)"
   ]
  },
  {
   "cell_type": "code",
   "execution_count": 7,
   "id": "cf952762",
   "metadata": {
    "scrolled": true
   },
   "outputs": [
    {
     "data": {
      "image/png": "[encoded data removed]",
      "text/plain": [
       "<Figure size 432x288 with 1 Axes>"
      ]
     },
     "metadata": {
      "needs_background": "light"
     },
     "output_type": "display_data"
    }
   ],
   "source": [
    "for i in range(len(MSE_test_list)):\n",
    "    plt.plot(range(1, len(MSE_test)+1), MSE_test_list[i], 'r', alpha=0.1) \n",
    "    plt.plot(range(1, len(MSE_test)+1), MSE_train_list[i], 'b', alpha=0.1) \n",
    "    plt.plot(range(1, len(MSE_test)+1), MSE_skl_list[i], 'r', alpha=0.1)\n",
    "\n",
    "plt.plot(range(1, len(MSE_test)+1), test_skl_avrg, 'g')\n",
    "plt.plot(range(1, len(MSE_test)+1), test_pol_avrg, 'r')\n",
    "plt.plot(range(1, len(MSE_train)+1), train_pol_avrg, 'b')\n",
    "#plt.plot(range(1, len(variance_avrg)+1), variance_avrg, 'g')\n",
    "\n",
    "#plt.ylim(0.95, 1.1)\n",
    "plt.show()\n",
    "# Observasjonar: \n",
    "# I Plottet under: Trekker ulike samples fra datasettet (med tilbakelegging) og predikerer optimal fit for ulike \n",
    "# polynomer med grad p. \n",
    "\n",
    "# I eksempelet over brukte eg ulike seed-verdier for å lage ulike utfall av støy. \n",
    "# I dette eksempelet viser me at det er mulig å modellere usikkerheit med  "
   ]
  },
  {
   "cell_type": "code",
   "execution_count": 235,
   "id": "fa987693",
   "metadata": {},
   "outputs": [],
   "source": [
    "#implementation of k-fold splitter: \n",
    "xyz_folds = [[] for _ in range(k_folds)] # make list\n",
    "for data_nr in range(xyz_shuffle.shape[0]): # hand observations to each group, then repeat\n",
    "    fold_nr = data_nr % (k_folds) # repeat\n",
    "    xyz_folds[fold_nr].append(xyz_shuffle[data_nr, :])\n",
    "\n",
    "xyz_folds = np.array(xyz_folds, dtype=object) # object since last groups is not filled"
   ]
  }
 ],
 "metadata": {
  "kernelspec": {
   "display_name": "Python 3",
   "language": "python",
   "name": "python3"
  },
  "language_info": {
   "codemirror_mode": {
    "name": "ipython",
    "version": 3
   },
   "file_extension": ".py",
   "mimetype": "text/x-python",
   "name": "python",
   "nbconvert_exporter": "python",
   "pygments_lexer": "ipython3",
   "version": "3.8.10"
  }
 },
 "nbformat": 4,
 "nbformat_minor": 5
}
