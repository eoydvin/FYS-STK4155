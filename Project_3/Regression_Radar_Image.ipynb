{
 "cells": [
  {
   "cell_type": "code",
   "execution_count": 11,
   "id": "170b4d8e",
   "metadata": {},
   "outputs": [
    {
     "name": "stdout",
     "output_type": "stream",
     "text": [
      "The autoreload extension is already loaded. To reload it, use:\n",
      "  %reload_ext autoreload\n"
     ]
    }
   ],
   "source": [
    "%load_ext autoreload \n",
    "%autoreload 2\n",
    "%matplotlib inline"
   ]
  },
  {
   "cell_type": "code",
   "execution_count": 12,
   "id": "867c0e15",
   "metadata": {},
   "outputs": [],
   "source": [
    "import pandas as pd\n",
    "import numpy as np\n",
    "from sklearn.preprocessing import OneHotEncoder\n",
    "import matplotlib.pyplot as plt\n",
    "import random\n",
    "import tqdm\n",
    "import datetime\n",
    "import seaborn as sns"
   ]
  },
  {
   "cell_type": "markdown",
   "id": "6d9a01bb",
   "metadata": {},
   "source": [
    "### Download map"
   ]
  },
  {
   "cell_type": "markdown",
   "id": "da991598",
   "metadata": {},
   "source": [
    "![Cordinates for interesting area from bboxfinder.com](bbox.png)"
   ]
  },
  {
   "cell_type": "markdown",
   "id": "21d28d69",
   "metadata": {},
   "source": [
    "### Prepare data"
   ]
  },
  {
   "cell_type": "code",
   "execution_count": 22,
   "id": "83caf97d",
   "metadata": {
    "scrolled": true
   },
   "outputs": [
    {
     "data": {
      "text/plain": [
       "<matplotlib.colorbar.Colorbar at 0x7fa6683244f0>"
      ]
     },
     "execution_count": 22,
     "metadata": {},
     "output_type": "execute_result"
    },
    {
     "data": {
      "image/png": "[encoded data removed]",
      "text/plain": [
       "<Figure size 432x288 with 2 Axes>"
      ]
     },
     "metadata": {
      "needs_background": "light"
     },
     "output_type": "display_data"
    }
   ],
   "source": [
    "dBZ_radar = np.load('radar_regression.npy')\n",
    "\n",
    "from radar import marshal_palmer\n",
    "p_radar = marshal_palmer(dBZ_radar)\n",
    "\n",
    "plt.imshow(dBZ_radar)\n",
    "plt.colorbar()"
   ]
  },
  {
   "cell_type": "code",
   "execution_count": 27,
   "id": "e8f63df5",
   "metadata": {},
   "outputs": [
    {
     "data": {
      "text/plain": [
       "(16, 14)"
      ]
     },
     "execution_count": 27,
     "metadata": {},
     "output_type": "execute_result"
    }
   ],
   "source": [
    "dBZ_radar.shape"
   ]
  },
  {
   "cell_type": "markdown",
   "id": "03f5ae66",
   "metadata": {},
   "source": [
    "### Polynomial fit and MSE"
   ]
  },
  {
   "cell_type": "code",
   "execution_count": 23,
   "id": "0676d87f",
   "metadata": {
    "scrolled": true
   },
   "outputs": [
    {
     "name": "stderr",
     "output_type": "stream",
     "text": [
      "100%|███████████████████████████| 20/20 [00:00<00:00, 30.27it/s]\n",
      "100%|███████████████████████████| 20/20 [00:01<00:00, 19.22it/s]\n"
     ]
    }
   ],
   "source": [
    "from sklearn.model_selection import train_test_split\n",
    "from sklearn.linear_model import LinearRegression as OLS\n",
    "from sklearn.linear_model import Ridge\n",
    "from sklearn.pipeline import make_pipeline\n",
    "from sklearn.preprocessing import PolynomialFeatures\n",
    "from sklearn.metrics import mean_squared_error\n",
    "\n",
    "polynomial_degrees = np.arange(1, 40, 2)\n",
    "regularization = np.array([10**(-13), 10**(-9), 10**(-2)]) # for ridge\n",
    "train_mse = np.zeros( (len(polynomial_degrees), len(regularization) +1) )\n",
    "test_mse = np.zeros( (len(polynomial_degrees), len(regularization) +1) )\n",
    "\n",
    "z = p_radar\n",
    "x = np.arange(z.shape[1])\n",
    "y = np.arange(z.shape[0])\n",
    "x, y = np.meshgrid(x, y)\n",
    "\n",
    "# scale data, \n",
    "# centering for making ridge regression more meningful\n",
    "# dividing by variance so that values gets a lower spread, \"lin alg warning from sklearn\"\n",
    "x = ( x - np.mean(x) ) / np.var(x)\n",
    "y = ( y - np.mean(y) ) / np.var(y)\n",
    "z = ( z - np.mean(z) ) / np.var(z)\n",
    "\n",
    "k_folds = 7\n",
    "\n",
    "xyz_shuffle = np.hstack([x.reshape(-1,1), y.reshape(-1,1), z.reshape(-1,1)])\n",
    "np.random.shuffle(xyz_shuffle) # shuffle along axis 0\n",
    "xyz_folds = np.array_split(xyz_shuffle, k_folds)\n",
    "\n",
    "\n",
    "for poly in tqdm.tqdm(range(len(polynomial_degrees))):\n",
    "    MSE_test = []\n",
    "    MSE_train = []\n",
    "            \n",
    "    for k in range(k_folds):     \n",
    "        # extract folds\n",
    "        xyz_test = xyz_folds[k].copy() # k-th fold is test \n",
    "        xyz_train = np.vstack([xyz_folds[f] for f in range(k_folds) if f != k]).copy() # skip k-th fold\n",
    "        xy_train = xyz_train[:, 0:2]\n",
    "        z_train = xyz_train[:, 2].reshape(-1, 1)\n",
    "        xy_test = xyz_test[:, 0:2]\n",
    "        z_test = xyz_test[:, 2].reshape(-1, 1)    \n",
    "            \n",
    "        model_skl = make_pipeline(PolynomialFeatures(degree=polynomial_degrees[poly]), OLS(fit_intercept=False))\n",
    "            \n",
    "        model_skl.fit(xy_train, z_train.ravel()) \n",
    "        skl_predict_test = model_skl.predict(xy_test)\n",
    "        skl_predict_train = model_skl.predict(xy_train)\n",
    "        MSE_test.append( mean_squared_error(z_test.ravel(), skl_predict_test ) )\n",
    "        MSE_train.append( mean_squared_error(z_train.ravel(), skl_predict_train ) )\n",
    "         \n",
    "    train_mse[poly, 0] = np.mean(MSE_train)\n",
    "    test_mse[poly, 0] = np.mean(MSE_test)\n",
    "        \n",
    "        \n",
    "for poly in tqdm.tqdm(range(len(polynomial_degrees))):\n",
    "    for j in range(len(regularization)):\n",
    "        MSE_test = []\n",
    "        MSE_train = []\n",
    "            \n",
    "        for k in range(k_folds):     \n",
    "            # extract folds\n",
    "            xyz_test = xyz_folds[k].copy() # k-th fold is test \n",
    "            xyz_train = np.vstack([xyz_folds[f] for f in range(k_folds) if f != k]).copy() # skip k-th fold\n",
    "            xy_train = xyz_train[:, 0:2]\n",
    "            z_train = xyz_train[:, 2].reshape(-1, 1)\n",
    "            xy_test = xyz_test[:, 0:2]\n",
    "            z_test = xyz_test[:, 2].reshape(-1, 1)    \n",
    "            \n",
    "            model_skl = make_pipeline(PolynomialFeatures(degree=polynomial_degrees[poly]), Ridge(\n",
    "                alpha=regularization[j], fit_intercept=False))\n",
    "            \n",
    "            model_skl.fit(xy_train, z_train.ravel()) \n",
    "            skl_predict_test = model_skl.predict(xy_test)\n",
    "            skl_predict_train = model_skl.predict(xy_train)\n",
    "            MSE_test.append( mean_squared_error(z_test.ravel(), skl_predict_test ) )\n",
    "            MSE_train.append( mean_squared_error(z_train.ravel(), skl_predict_train ) )\n",
    "         \n",
    "        train_mse[poly, j+1] = np.mean(MSE_train)\n",
    "        test_mse[poly, j+1] = np.mean(MSE_test)"
   ]
  },
  {
   "cell_type": "code",
   "execution_count": 40,
   "id": "9ed178b4",
   "metadata": {},
   "outputs": [
    {
     "data": {
      "text/plain": [
       "(0.0, 0.45)"
      ]
     },
     "execution_count": 40,
     "metadata": {},
     "output_type": "execute_result"
    },
    {
     "data": {
      "image/png": "[encoded data removed]",
      "text/plain": [
       "<Figure size 432x288 with 1 Axes>"
      ]
     },
     "metadata": {
      "needs_background": "light"
     },
     "output_type": "display_data"
    }
   ],
   "source": [
    "plt.plot(range(len(polynomial_degrees)), test_mse[:, 0], label='OLS')\n",
    "plt.plot(range(len(polynomial_degrees)), test_mse[:, 1], label='Ridge lambda = ' + str(regularization[0]) )\n",
    "plt.plot(range(len(polynomial_degrees)), test_mse[:, 2], label='Ridge lambda = ' + str(regularization[1]))\n",
    "plt.plot(range(len(polynomial_degrees)), test_mse[:, 3], label='Ridge lambda = ' + str(regularization[2]))\n",
    "plt.plot(range(len(polynomial_degrees)), train_mse[:, 0], label='OLS train')\n",
    "\n",
    "\n",
    "plt.legend()\n",
    "plt.xlabel('Polynomial degree')\n",
    "plt.ylabel('Mean sqared error')\n",
    "\n",
    "plt.title('Polynomial fit weather radar grid')\n",
    "plt.ylim(0, 0.45)"
   ]
  },
  {
   "cell_type": "markdown",
   "id": "b4eb495b",
   "metadata": {},
   "source": [
    "# Neural Network"
   ]
  },
  {
   "cell_type": "code",
   "execution_count": 58,
   "id": "67177cc4",
   "metadata": {
    "scrolled": true
   },
   "outputs": [
    {
     "name": "stderr",
     "output_type": "stream",
     "text": [
      "100%|█████████████████████████████| 8/8 [00:03<00:00,  2.64it/s]\n"
     ]
    }
   ],
   "source": [
    "from sklearn.model_selection import train_test_split\n",
    "from sklearn.neural_network import MLPRegressor\n",
    "from sklearn.metrics import mean_squared_error\n",
    "\n",
    "\n",
    "#hidden_layers = [[11, 11],[21, 21],[41, 41],[61, 61],[81, 81],[101, 101],[121, 121],[141, 141],[161, 161],[181, 181]]\n",
    "hidden_layers = [[1, 1], [5, 5], [10, 10], [15, 15], [20, 20], [25, 25], [30, 30], [35, 35]]\n",
    "                 \n",
    "train_mse_nn = np.zeros((len(hidden_layers)))\n",
    "test_mse_nn = np.zeros((train_mse_nn.shape))\n",
    "\n",
    "z = dBZ_radar\n",
    "x = np.arange(z.shape[1])\n",
    "y = np.arange(z.shape[0])\n",
    "x, y = np.meshgrid(x, y)\n",
    "\n",
    "x = ( x - np.mean(x) ) / np.var(x)\n",
    "y = ( y - np.mean(y) ) / np.var(y)\n",
    "z = ( z - np.mean(z) ) / np.var(z)\n",
    "\n",
    "k_folds = 7\n",
    "\n",
    "xyz_shuffle = np.hstack([x.reshape(-1,1), y.reshape(-1,1), z.reshape(-1,1)])\n",
    "np.random.shuffle(xyz_shuffle) # shuffle along axis 0\n",
    "xyz_folds = np.array_split(xyz_shuffle, k_folds)\n",
    "\n",
    "for n_layers in tqdm.tqdm(range(len(hidden_layers))):\n",
    "    MSE_test = []\n",
    "    MSE_train = []\n",
    "            \n",
    "    for k in range(k_folds):\n",
    "        xyz_test = xyz_folds[k].copy() # k-th fold is test \n",
    "        xyz_train = np.vstack([xyz_folds[f] for f in range(k_folds) if f != k]).copy() # skip k-th fold\n",
    "\n",
    "        xy_train = xyz_train[:, 0:2]\n",
    "        z_train = xyz_train[:, 2].reshape(-1, 1)\n",
    "        xy_test = xyz_test[:, 0:2]\n",
    "        z_test = xyz_test[:, 2].reshape(-1, 1)    \n",
    "\n",
    "        dnn = MLPRegressor(hidden_layer_sizes=hidden_layers[n_layers],\n",
    "                            activation='relu',\n",
    "                            solver='adam',\n",
    "                            max_iter=10000)\n",
    "                \n",
    "        dnn.fit(xy_train, z_train.ravel())\n",
    "            \n",
    "        dnn_zpred_train = dnn.predict(xy_train)\n",
    "        dnn_zpred_test = dnn.predict(xy_test)            \n",
    "            \n",
    "        MSE_test.append( mean_squared_error(z_test.ravel(), dnn_zpred_test ) )\n",
    "        MSE_train.append( mean_squared_error(z_train.ravel(), dnn_zpred_train ) )\n",
    "            \n",
    "    train_mse_nn[n_layers] = np.mean(MSE_train)\n",
    "    test_mse_nn[n_layers] = np.mean(MSE_test)"
   ]
  },
  {
   "cell_type": "code",
   "execution_count": 59,
   "id": "4213467b",
   "metadata": {
    "scrolled": false
   },
   "outputs": [
    {
     "data": {
      "text/plain": [
       "<matplotlib.legend.Legend at 0x7fa6561a3580>"
      ]
     },
     "execution_count": 59,
     "metadata": {},
     "output_type": "execute_result"
    },
    {
     "data": {
      "image/png": "[encoded data removed]",
      "text/plain": [
       "<Figure size 432x288 with 1 Axes>"
      ]
     },
     "metadata": {
      "needs_background": "light"
     },
     "output_type": "display_data"
    }
   ],
   "source": [
    "plt.plot([i[0] for i in hidden_layers], train_mse_nn, label='Train')\n",
    "plt.plot([i[0] for i in hidden_layers], test_mse_nn, label='Test')\n",
    "plt.xlabel('Number of neurons in each layer')\n",
    "plt.ylabel('Mean sqared error')\n",
    "plt.title('Neural network fit to weather radar grid')\n",
    "plt.legend()\n"
   ]
  },
  {
   "cell_type": "markdown",
   "id": "984e0bfe",
   "metadata": {},
   "source": [
    "# Decision Tree"
   ]
  },
  {
   "cell_type": "code",
   "execution_count": 54,
   "id": "647cf1da",
   "metadata": {},
   "outputs": [
    {
     "name": "stderr",
     "output_type": "stream",
     "text": [
      "100%|██████████████████████████| 19/19 [00:00<00:00, 160.51it/s]\n"
     ]
    }
   ],
   "source": [
    "from sklearn.model_selection import train_test_split\n",
    "from sklearn.tree import DecisionTreeRegressor\n",
    "from sklearn.metrics import mean_squared_error\n",
    "\n",
    "leafs_list = np.arange(1, 20, 1)\n",
    "train_mse_dt = np.zeros( leafs_list.shape )\n",
    "test_mse_dt = np.zeros( leafs_list.shape )\n",
    "\n",
    "z = dBZ_radar\n",
    "x = np.arange(z.shape[1])\n",
    "y = np.arange(z.shape[0])\n",
    "x, y = np.meshgrid(x, y)\n",
    "\n",
    "# scale data \n",
    "x = ( x - np.mean(x) ) / np.var(x)\n",
    "y = ( y - np.mean(y) ) / np.var(y)\n",
    "z = ( z - np.mean(z) ) / np.var(z)\n",
    "\n",
    "k_folds = 7\n",
    "xyz_shuffle = np.hstack([x.reshape(-1,1), y.reshape(-1,1), z.reshape(-1,1)])\n",
    "np.random.shuffle(xyz_shuffle) # shuffle along axis 0\n",
    "xyz_folds = np.array_split(xyz_shuffle, k_folds)\n",
    "\n",
    "for leafs in tqdm.tqdm( range(len(leafs_list )) ):\n",
    "    MSE_test = []\n",
    "    MSE_train = []\n",
    "    for k in range(k_folds):     \n",
    "        # extract folds\n",
    "        xyz_test = xyz_folds[k].copy() # k-th fold is test \n",
    "        xyz_train = np.vstack([xyz_folds[f] for f in range(k_folds) if f != k]).copy() # skip k-th fold\n",
    "\n",
    "        xy_train = xyz_train[:, 0:2]\n",
    "        z_train = xyz_train[:, 2].reshape(-1, 1)\n",
    "        xy_test = xyz_test[:, 0:2]\n",
    "        z_test = xyz_test[:, 2].reshape(-1, 1)               \n",
    "            \n",
    "        clf1 = DecisionTreeRegressor(max_depth=leafs_list[leafs], random_state=42)\n",
    "        clf1.fit(xy_train, z_train)\n",
    "        \n",
    "        skl_predict_test = clf1.predict(xy_test)\n",
    "        skl_predict_train = clf1.predict(xy_train)\n",
    "        \n",
    "        MSE_test.append( mean_squared_error(z_test.ravel(), skl_predict_test ) )\n",
    "        MSE_train.append( mean_squared_error(z_train.ravel(), skl_predict_train ) )\n",
    "    \n",
    "    train_mse_dt[leafs] = np.mean(MSE_train)\n",
    "    test_mse_dt[leafs] = np.mean(MSE_test)"
   ]
  },
  {
   "cell_type": "code",
   "execution_count": 55,
   "id": "8f36f7b3",
   "metadata": {},
   "outputs": [
    {
     "data": {
      "text/plain": [
       "<matplotlib.legend.Legend at 0x7fa66007e250>"
      ]
     },
     "execution_count": 55,
     "metadata": {},
     "output_type": "execute_result"
    },
    {
     "data": {
      "image/png": "[encoded data removed]",
      "text/plain": [
       "<Figure size 432x288 with 1 Axes>"
      ]
     },
     "metadata": {
      "needs_background": "light"
     },
     "output_type": "display_data"
    }
   ],
   "source": [
    "plt.plot(leafs_list, test_mse_dt, label='Test')\n",
    "plt.plot(leafs_list, train_mse_dt, label='Train')\n",
    "\n",
    "plt.xlabel('Depth of decision tree')\n",
    "plt.ylabel('Mean sqared error')\n",
    "plt.title('Decision tree fit to weather radar grid')\n",
    "plt.legend()"
   ]
  },
  {
   "cell_type": "code",
   "execution_count": null,
   "id": "cd16ee2e",
   "metadata": {},
   "outputs": [],
   "source": []
  }
 ],
 "metadata": {
  "kernelspec": {
   "display_name": "Python 3 (ipykernel)",
   "language": "python",
   "name": "python3"
  },
  "language_info": {
   "codemirror_mode": {
    "name": "ipython",
    "version": 3
   },
   "file_extension": ".py",
   "mimetype": "text/x-python",
   "name": "python",
   "nbconvert_exporter": "python",
   "pygments_lexer": "ipython3",
   "version": "3.8.8"
  }
 },
 "nbformat": 4,
 "nbformat_minor": 5
}
