{
 "cells": [
  {
   "cell_type": "code",
   "execution_count": 1,
   "id": "a29997f0",
   "metadata": {
    "collapsed": true
   },
   "outputs": [
    {
     "name": "stdout",
     "output_type": "stream",
     "text": [
      "The autoreload extension is already loaded. To reload it, use:\n",
      "  %reload_ext autoreload\n"
     ]
    }
   ],
   "source": [
    "%load_ext autoreload \n",
    "%autoreload 2"
   ]
  },
  {
   "cell_type": "code",
   "execution_count": 2,
   "id": "1fefac48",
   "metadata": {},
   "outputs": [],
   "source": [
    "%matplotlib inline"
   ]
  },
  {
   "cell_type": "markdown",
   "id": "cd8b445e",
   "metadata": {},
   "source": [
    "## NN on weather radar image"
   ]
  },
  {
   "cell_type": "markdown",
   "id": "e7c5508b",
   "metadata": {},
   "source": [
    "In this exercise I will develop my own NN and use it against the same weather radar image. "
   ]
  },
  {
   "cell_type": "markdown",
   "id": "111ab384",
   "metadata": {},
   "source": [
    "- Gjer meg opp ein meining for kostfunksjon. ABS eller MSE. \n",
    "- gjør NN klart for ulike aktiveringsfunksjoner\n",
    "- gjer det sammenlignbart med OLS og Ridge i forrige oppgave og prosjekt 1. \n",
    "- gjer det sammenlignbart med tensorflow/keras. \n",
    "- gjer det mulig å initialisere med ulike vekter og bias. "
   ]
  },
  {
   "cell_type": "markdown",
   "id": "bd55e30c",
   "metadata": {},
   "source": [
    "## Different activation functions"
   ]
  },
  {
   "cell_type": "markdown",
   "id": "bec5d745",
   "metadata": {},
   "source": [
    "- Test ut sigmoid, RELU og Leaky RELU.\n",
    "- Mulig: Sjekk ut om måten eg initialiserer vekter og bias på på har noko å sei. "
   ]
  },
  {
   "cell_type": "code",
   "execution_count": null,
   "id": "135af43c",
   "metadata": {},
   "outputs": [],
   "source": []
  }
 ],
 "metadata": {
  "kernelspec": {
   "display_name": "Python 3",
   "language": "python",
   "name": "python3"
  },
  "language_info": {
   "codemirror_mode": {
    "name": "ipython",
    "version": 3
   },
   "file_extension": ".py",
   "mimetype": "text/x-python",
   "name": "python",
   "nbconvert_exporter": "python",
   "pygments_lexer": "ipython3",
   "version": "3.8.10"
  }
 },
 "nbformat": 4,
 "nbformat_minor": 5
}
