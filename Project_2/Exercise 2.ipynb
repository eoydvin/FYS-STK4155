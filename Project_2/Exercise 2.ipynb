{
 "cells": [
  {
   "cell_type": "code",
   "execution_count": 1,
   "id": "a29997f0",
   "metadata": {
    "collapsed": true
   },
   "outputs": [
    {
     "name": "stdout",
     "output_type": "stream",
     "text": [
      "The autoreload extension is already loaded. To reload it, use:\n",
      "  %reload_ext autoreload\n"
     ]
    }
   ],
   "source": [
    "%load_ext autoreload \n",
    "%autoreload 2"
   ]
  },
  {
   "cell_type": "code",
   "execution_count": 2,
   "id": "1fefac48",
   "metadata": {},
   "outputs": [],
   "source": [
    "%matplotlib inline"
   ]
  },
  {
   "cell_type": "markdown",
   "id": "cd8b445e",
   "metadata": {},
   "source": [
    "## SGD on weather radar image"
   ]
  },
  {
   "cell_type": "code",
   "execution_count": 1,
   "id": "a8168156",
   "metadata": {},
   "outputs": [],
   "source": [
    "import numpy as np\n",
    "from imageio import imread\n",
    "import matplotlib.pyplot as plt\n",
    "from mpl_toolkits.mplot3d import Axes3D\n",
    "from matplotlib import cm"
   ]
  },
  {
   "cell_type": "markdown",
   "id": "e7c5508b",
   "metadata": {},
   "source": [
    "In Project 1 we used matrix inversion to solve the equations for OLS and Ridge. In this exercise I will solve the same equations using stocastic gradient descent. I have choosen to continue with the same weather radar image as I used in the first project:"
   ]
  },
  {
   "cell_type": "markdown",
   "id": "111ab384",
   "metadata": {},
   "source": [
    "SDG på værradar:\n",
    "- gjer enderinger i regression.py slik at det blir ein SGD. Les litt om SGD før eg gjennbruker kode fra forrige gong eg gjorde dette. Det virker som SGD går ut på å trekke ut tilfeldig deler av bildet og beregne beta på det. \n",
    "- For å måle nøyaktigheit treng eg eit tall mellom 0 og 1... matrise med lavest mulig MSE..?Ta eit standpunkt til dette før eg begynner og sjekk at R2 gir fornuftig tall. \n",
    "- Sammenlign med svaret fra skicit learn. Her skal det være ein SGD optimon som gjer at eg får samme matrise som over. ulike treff for 2 ulike parameter. \n",
    "- Gjer scalering riktig. Bruk cross validation og undersøk bootstrap dersom tid. \n"
   ]
  }
 ],
 "metadata": {
  "kernelspec": {
   "display_name": "Python 3",
   "language": "python",
   "name": "python3"
  },
  "language_info": {
   "codemirror_mode": {
    "name": "ipython",
    "version": 3
   },
   "file_extension": ".py",
   "mimetype": "text/x-python",
   "name": "python",
   "nbconvert_exporter": "python",
   "pygments_lexer": "ipython3",
   "version": "3.8.10"
  }
 },
 "nbformat": 4,
 "nbformat_minor": 5
}
